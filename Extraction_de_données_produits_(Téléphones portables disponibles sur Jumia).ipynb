{
 "cells": [
  {
   "cell_type": "code",
   "execution_count": 1,
   "metadata": {},
   "outputs": [],
   "source": [
    "# Importer des bibliothèques\n",
    "from bs4 import BeautifulSoup\n",
    "import requests\n",
    "import pandas as pd \n",
    "import os"
   ]
  },
  {
   "cell_type": "code",
   "execution_count": 2,
   "metadata": {},
   "outputs": [],
   "source": [
    "url = ['https://www.jumia.ma/telephones-smartphones/?#catalog-listing']\n",
    "for u in range(2,24) :\n",
    "    txt = 'https://www.jumia.ma/telephones-smartphones/?page='+str(u)+'#catalog-listing'\n",
    "    url.append(txt)"
   ]
  },
  {
   "cell_type": "code",
   "execution_count": 3,
   "metadata": {},
   "outputs": [],
   "source": [
    "type_ = []\n",
    "produits = []\n",
    "new_prix = []\n",
    "for ur in url :\n",
    "    page = requests.get(ur)\n",
    "    soup = BeautifulSoup(page.content, 'html.parser')\n",
    "    tab = soup.find_all(\"article\", class_='prd _fb col c-prd')\n",
    "    # liste type de produit\n",
    "    tableau = soup.find_all(\"a\", class_='core')\n",
    "    for a_tag in tableau:\n",
    "        data_brand = str(a_tag.get('data-brand'))\n",
    "        type_.append(data_brand)\n",
    "    # liste des produits\n",
    "    pro = soup.find_all(\"h3\", class_='name')\n",
    "    for i in pro :\n",
    "        produits.append(i.text)\n",
    "    # liste des nouveaux prix\n",
    "    new_pr = soup.find_all(\"div\", class_='prc')\n",
    "    for i in new_pr :\n",
    "        new_prix.append(i.text)"
   ]
  },
  {
   "cell_type": "code",
   "execution_count": 4,
   "metadata": {},
   "outputs": [],
   "source": [
    "# Création du dataframe\n",
    "data = {\n",
    "    \"type_produit\": type_,\n",
    "    \"nom produit\": produits,\n",
    "    \"new_prix\":new_prix\n",
    "}\n",
    "df = pd.DataFrame(data)"
   ]
  },
  {
   "cell_type": "code",
   "execution_count": 5,
   "metadata": {},
   "outputs": [
    {
     "name": "stdout",
     "output_type": "stream",
     "text": [
      "Le stockage des données des produits (téléphones portables) disponibles sur Jumia a été effectué avec succès.\n"
     ]
    }
   ],
   "source": [
    "# Stockage du dataframe dans un fichier excel \"produits.xlsx\"\n",
    "chemin = \"C:\\\\Users\\\\HP 840 G6\\\\Desktop\\\\produits.xlsx\"\n",
    "if os.path.exists(chemin):\n",
    "    print(\"Erreur de stockage !!!!!!!\\nLe fichier que vous avez spécifié dans le chemin est déjà présent. Veuillez modifier le chemin.\")\n",
    "else :\n",
    "    df.to_excel(chemin,index=False)\n",
    "    print(\"Le stockage des données des produits (téléphones portables) disponibles sur Jumia a été effectué avec succès.\")"
   ]
  }
 ],
 "metadata": {
  "kernelspec": {
   "display_name": "Python 3",
   "language": "python",
   "name": "python3"
  },
  "language_info": {
   "codemirror_mode": {
    "name": "ipython",
    "version": 3
   },
   "file_extension": ".py",
   "mimetype": "text/x-python",
   "name": "python",
   "nbconvert_exporter": "python",
   "pygments_lexer": "ipython3",
   "version": "3.11.1"
  },
  "orig_nbformat": 4
 },
 "nbformat": 4,
 "nbformat_minor": 2
}
